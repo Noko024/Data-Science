{
 "cells": [
  {
   "cell_type": "markdown",
   "id": "731cd7dc-895d-415d-a989-c0c58f95f694",
   "metadata": {},
   "source": [
    "# Tensorflow Regression"
   ]
  },
  {
   "cell_type": "markdown",
   "id": "2e15218c-6a2b-4b61-a9d9-cb06374dab64",
   "metadata": {},
   "source": [
    "## Libraries"
   ]
  },
  {
   "cell_type": "code",
   "execution_count": 2,
   "id": "bab5ab98",
   "metadata": {},
   "outputs": [],
   "source": [
    "import tensorflow as tf\n",
    "import pandas as pd\n",
    "import matplotlib.pyplot as plt\n",
    "import numpy as np\n",
    "import seaborn as sns\n",
    "from sklearn.model_selection import train_test_split\n",
    "import keras\n",
    "from sklearn.metrics import accuracy_score, recall_score, f1_score, roc_auc_score\n",
    "pd.set_option('display.max_columns', 500)\n",
    "pd.set_option('display.max_rows', 500)\n",
    "pd.options.display.float_format = '{:.2f}'.format # Format\n"
   ]
  },
  {
   "cell_type": "markdown",
   "id": "e0c26327",
   "metadata": {},
   "source": [
    "## Data \n"
   ]
  },
  {
   "cell_type": "code",
   "execution_count": 9,
   "id": "f75d93a8",
   "metadata": {},
   "outputs": [],
   "source": [
    "# URL\n",
    "url = 'http://archive.ics.uci.edu/ml/machine-learning-databases/auto-mpg/auto-mpg.data'\n",
    "column_names = ['MPG', 'Cylinders', 'Displacement', 'Horsepower', 'Weight',\n",
    "                'Acceleration', 'Model Year', 'Origin']\n",
    "# Data\n",
    "raw_dataset = pd.read_csv(url, names=column_names,\n",
    "                          na_values='?', comment='\\t',\n",
    "                          sep=' ', skipinitialspace=True)\n",
    "df = raw_dataset.copy()\n",
    "\n",
    "# Replace Nulls\n",
    "for i in [i for i in df.columns if df.dtypes[i]!='object']:\n",
    "    df[i].fillna(value=round(df[i].mean(),0), inplace=True)\n",
    "\n",
    "for i in [i for i in df.columns if df.dtypes[i]=='object']:\n",
    "    df[i].fillna(value=\"Other\", inplace=True)\n",
    "\n",
    "# Get Dummies\n",
    "pd.get_dummies(df).astype(int)\n",
    "X = df.drop('MPG',axis = 1).copy()\n",
    "y = df['MPG'].copy()\n",
    "\n",
    "# Split\n",
    "X_train, X_test, y_train, y_test = train_test_split(X, y, test_size=0.2)\n"
   ]
  },
  {
   "cell_type": "markdown",
   "id": "71dd9ee4-46c1-4711-9b79-a42a365c5548",
   "metadata": {},
   "source": [
    "## Model"
   ]
  },
  {
   "cell_type": "code",
   "execution_count": 10,
   "id": "ce52b902",
   "metadata": {},
   "outputs": [
    {
     "name": "stdout",
     "output_type": "stream",
     "text": [
      "Epoch 1/1000\n",
      "10/10 [==============================] - 1s 20ms/step - loss: 139.6081 - val_loss: 66.1485\n",
      "Epoch 2/1000\n",
      "10/10 [==============================] - 0s 5ms/step - loss: 39.2751 - val_loss: 19.7952\n",
      "Epoch 3/1000\n",
      "10/10 [==============================] - 0s 5ms/step - loss: 16.3995 - val_loss: 10.8173\n",
      "Epoch 4/1000\n",
      "10/10 [==============================] - 0s 7ms/step - loss: 15.4861 - val_loss: 9.4771\n",
      "Epoch 5/1000\n",
      "10/10 [==============================] - 0s 5ms/step - loss: 9.5167 - val_loss: 8.0585\n",
      "Epoch 6/1000\n",
      "10/10 [==============================] - 0s 6ms/step - loss: 13.1843 - val_loss: 19.5495\n",
      "Epoch 7/1000\n",
      "10/10 [==============================] - 0s 7ms/step - loss: 16.6235 - val_loss: 6.1002\n",
      "Epoch 8/1000\n",
      "10/10 [==============================] - 0s 9ms/step - loss: 15.8533 - val_loss: 32.9381\n",
      "Epoch 9/1000\n",
      "10/10 [==============================] - 0s 7ms/step - loss: 21.0246 - val_loss: 20.0323\n",
      "Epoch 10/1000\n",
      "10/10 [==============================] - 0s 6ms/step - loss: 19.0208 - val_loss: 6.7739\n",
      "Epoch 11/1000\n",
      "10/10 [==============================] - 0s 5ms/step - loss: 9.2349 - val_loss: 11.1680\n",
      "Epoch 12/1000\n",
      "10/10 [==============================] - 0s 5ms/step - loss: 7.9089 - val_loss: 13.0942\n",
      "Epoch 13/1000\n",
      "10/10 [==============================] - 0s 6ms/step - loss: 10.5387 - val_loss: 10.3925\n",
      "Epoch 14/1000\n",
      "10/10 [==============================] - 0s 6ms/step - loss: 7.2155 - val_loss: 6.4191\n",
      "Epoch 15/1000\n",
      "10/10 [==============================] - 0s 6ms/step - loss: 5.1669 - val_loss: 5.2269\n",
      "Epoch 16/1000\n",
      "10/10 [==============================] - 0s 6ms/step - loss: 5.9797 - val_loss: 6.2036\n",
      "Epoch 17/1000\n",
      "10/10 [==============================] - 0s 6ms/step - loss: 6.7947 - val_loss: 5.7049\n",
      "Epoch 18/1000\n",
      "10/10 [==============================] - 0s 6ms/step - loss: 12.3614 - val_loss: 4.9015\n",
      "Epoch 19/1000\n",
      "10/10 [==============================] - 0s 6ms/step - loss: 12.0921 - val_loss: 6.7486\n",
      "Epoch 20/1000\n",
      "10/10 [==============================] - 0s 6ms/step - loss: 11.2908 - val_loss: 15.0660\n",
      "Epoch 21/1000\n",
      "10/10 [==============================] - 0s 5ms/step - loss: 8.9953 - val_loss: 9.9311\n",
      "Epoch 22/1000\n",
      "10/10 [==============================] - 0s 8ms/step - loss: 7.1886 - val_loss: 7.0887\n",
      "Epoch 23/1000\n",
      "10/10 [==============================] - 0s 7ms/step - loss: 5.6587 - val_loss: 7.3341\n",
      "Epoch 24/1000\n",
      "10/10 [==============================] - 0s 6ms/step - loss: 5.7354 - val_loss: 4.7442\n",
      "Epoch 25/1000\n",
      "10/10 [==============================] - 0s 6ms/step - loss: 5.0698 - val_loss: 6.1792\n",
      "Epoch 26/1000\n",
      "10/10 [==============================] - 0s 6ms/step - loss: 4.9529 - val_loss: 5.2759\n",
      "Epoch 27/1000\n",
      "10/10 [==============================] - 0s 7ms/step - loss: 5.2901 - val_loss: 4.6363\n",
      "Epoch 28/1000\n",
      "10/10 [==============================] - 0s 5ms/step - loss: 5.1084 - val_loss: 4.6386\n",
      "Epoch 29/1000\n",
      "10/10 [==============================] - 0s 7ms/step - loss: 4.6955 - val_loss: 4.5425\n",
      "Epoch 30/1000\n",
      "10/10 [==============================] - 0s 7ms/step - loss: 3.8033 - val_loss: 4.5131\n",
      "Epoch 31/1000\n",
      "10/10 [==============================] - 0s 7ms/step - loss: 3.8160 - val_loss: 3.5944\n",
      "Epoch 32/1000\n",
      "10/10 [==============================] - 0s 7ms/step - loss: 3.5288 - val_loss: 3.4912\n",
      "Epoch 33/1000\n",
      "10/10 [==============================] - 0s 6ms/step - loss: 3.1537 - val_loss: 3.7034\n",
      "Epoch 34/1000\n",
      "10/10 [==============================] - 0s 6ms/step - loss: 2.8834 - val_loss: 4.0419\n",
      "Epoch 35/1000\n",
      "10/10 [==============================] - 0s 5ms/step - loss: 3.2054 - val_loss: 4.4824\n",
      "Epoch 36/1000\n",
      "10/10 [==============================] - 0s 6ms/step - loss: 3.3601 - val_loss: 3.3658\n",
      "Epoch 37/1000\n",
      "10/10 [==============================] - 0s 6ms/step - loss: 2.9611 - val_loss: 2.9505\n",
      "Epoch 38/1000\n",
      "10/10 [==============================] - 0s 7ms/step - loss: 3.5543 - val_loss: 5.3315\n",
      "Epoch 39/1000\n",
      "10/10 [==============================] - 0s 8ms/step - loss: 5.5791 - val_loss: 9.0046\n",
      "Epoch 40/1000\n",
      "10/10 [==============================] - 0s 6ms/step - loss: 8.7673 - val_loss: 6.5085\n",
      "Epoch 41/1000\n",
      "10/10 [==============================] - 0s 6ms/step - loss: 4.2980 - val_loss: 3.5128\n",
      "Epoch 42/1000\n",
      "10/10 [==============================] - 0s 7ms/step - loss: 4.0144 - val_loss: 3.1800\n",
      "Epoch 43/1000\n",
      "10/10 [==============================] - 0s 6ms/step - loss: 3.5891 - val_loss: 3.3144\n",
      "Epoch 44/1000\n",
      "10/10 [==============================] - 0s 7ms/step - loss: 3.3309 - val_loss: 3.6227\n",
      "Epoch 45/1000\n",
      "10/10 [==============================] - 0s 7ms/step - loss: 3.1094 - val_loss: 3.5614\n",
      "Epoch 46/1000\n",
      "10/10 [==============================] - 0s 7ms/step - loss: 3.1011 - val_loss: 3.1034\n",
      "Epoch 47/1000\n",
      "10/10 [==============================] - 0s 4ms/step - loss: 2.8027 - val_loss: 3.3866\n",
      "Epoch 48/1000\n",
      "10/10 [==============================] - 0s 6ms/step - loss: 2.7296 - val_loss: 3.0408\n",
      "Epoch 49/1000\n",
      "10/10 [==============================] - 0s 6ms/step - loss: 2.8975 - val_loss: 3.2195\n",
      "Epoch 50/1000\n",
      "10/10 [==============================] - 0s 7ms/step - loss: 3.6537 - val_loss: 4.3948\n",
      "Epoch 51/1000\n",
      "10/10 [==============================] - 0s 6ms/step - loss: 4.0847 - val_loss: 4.3394\n",
      "Epoch 52/1000\n",
      "10/10 [==============================] - 0s 5ms/step - loss: 4.2742 - val_loss: 3.1170\n",
      "Epoch 53/1000\n",
      "10/10 [==============================] - 0s 6ms/step - loss: 3.9754 - val_loss: 5.9862\n",
      "Epoch 54/1000\n",
      "10/10 [==============================] - 0s 7ms/step - loss: 5.0361 - val_loss: 2.9091\n",
      "Epoch 55/1000\n",
      "10/10 [==============================] - 0s 6ms/step - loss: 7.0218 - val_loss: 9.8587\n",
      "Epoch 56/1000\n",
      "10/10 [==============================] - 0s 6ms/step - loss: 5.2839 - val_loss: 6.9254\n",
      "Epoch 57/1000\n",
      "10/10 [==============================] - 0s 6ms/step - loss: 5.0883 - val_loss: 4.3936\n",
      "Epoch 58/1000\n",
      "10/10 [==============================] - 0s 6ms/step - loss: 4.6399 - val_loss: 5.4139\n",
      "Epoch 59/1000\n",
      "10/10 [==============================] - 0s 6ms/step - loss: 4.8667 - val_loss: 7.5506\n",
      "Epoch 60/1000\n",
      "10/10 [==============================] - 0s 6ms/step - loss: 4.2381 - val_loss: 3.2565\n",
      "Epoch 61/1000\n",
      "10/10 [==============================] - 0s 7ms/step - loss: 3.2325 - val_loss: 3.0522\n",
      "Epoch 62/1000\n",
      "10/10 [==============================] - 0s 8ms/step - loss: 3.0036 - val_loss: 2.7901\n",
      "Epoch 63/1000\n",
      "10/10 [==============================] - 0s 6ms/step - loss: 2.6770 - val_loss: 3.6987\n",
      "Epoch 64/1000\n",
      "10/10 [==============================] - 0s 6ms/step - loss: 2.7534 - val_loss: 3.5305\n",
      "Epoch 65/1000\n",
      "10/10 [==============================] - 0s 6ms/step - loss: 2.9184 - val_loss: 4.0924\n",
      "Epoch 66/1000\n",
      "10/10 [==============================] - 0s 7ms/step - loss: 3.4659 - val_loss: 3.0515\n",
      "Epoch 67/1000\n",
      "10/10 [==============================] - 0s 7ms/step - loss: 3.4425 - val_loss: 3.5864\n",
      "Epoch 68/1000\n",
      "10/10 [==============================] - 0s 6ms/step - loss: 4.9004 - val_loss: 8.2778\n",
      "Epoch 69/1000\n",
      "10/10 [==============================] - 0s 7ms/step - loss: 4.4019 - val_loss: 2.9479\n",
      "Epoch 70/1000\n",
      "10/10 [==============================] - 0s 6ms/step - loss: 3.9717 - val_loss: 5.3830\n",
      "Epoch 71/1000\n",
      "10/10 [==============================] - 0s 6ms/step - loss: 4.0285 - val_loss: 2.8592\n",
      "Epoch 72/1000\n",
      "10/10 [==============================] - 0s 5ms/step - loss: 2.5505 - val_loss: 2.7481\n",
      "Epoch 73/1000\n",
      "10/10 [==============================] - 0s 7ms/step - loss: 3.0292 - val_loss: 3.9624\n",
      "Epoch 74/1000\n",
      "10/10 [==============================] - 0s 5ms/step - loss: 3.2363 - val_loss: 3.0569\n",
      "Epoch 75/1000\n",
      "10/10 [==============================] - 0s 4ms/step - loss: 2.8559 - val_loss: 2.9401\n",
      "Epoch 76/1000\n",
      "10/10 [==============================] - 0s 5ms/step - loss: 2.8269 - val_loss: 2.6858\n",
      "Epoch 77/1000\n",
      "10/10 [==============================] - 0s 5ms/step - loss: 2.5283 - val_loss: 3.9958\n",
      "Epoch 78/1000\n",
      "10/10 [==============================] - 0s 7ms/step - loss: 4.6297 - val_loss: 2.8526\n",
      "Epoch 79/1000\n",
      "10/10 [==============================] - 0s 11ms/step - loss: 2.5156 - val_loss: 2.7335\n",
      "Epoch 80/1000\n",
      "10/10 [==============================] - 0s 6ms/step - loss: 2.9938 - val_loss: 2.6495\n",
      "Epoch 81/1000\n",
      "10/10 [==============================] - 0s 6ms/step - loss: 2.3643 - val_loss: 2.5562\n"
     ]
    },
    {
     "name": "stdout",
     "output_type": "stream",
     "text": [
      "Epoch 82/1000\n",
      "10/10 [==============================] - 0s 8ms/step - loss: 2.6646 - val_loss: 2.9732\n",
      "Epoch 83/1000\n",
      "10/10 [==============================] - 0s 6ms/step - loss: 2.5237 - val_loss: 2.7267\n",
      "Epoch 84/1000\n",
      "10/10 [==============================] - 0s 7ms/step - loss: 2.6171 - val_loss: 2.8398\n",
      "Epoch 85/1000\n",
      "10/10 [==============================] - 0s 7ms/step - loss: 2.6975 - val_loss: 3.3551\n",
      "Epoch 86/1000\n",
      "10/10 [==============================] - 0s 7ms/step - loss: 2.5581 - val_loss: 2.9342\n",
      "Epoch 87/1000\n",
      "10/10 [==============================] - 0s 6ms/step - loss: 2.4519 - val_loss: 2.6943\n",
      "Epoch 88/1000\n",
      "10/10 [==============================] - 0s 6ms/step - loss: 2.4101 - val_loss: 2.8614\n",
      "Epoch 89/1000\n",
      "10/10 [==============================] - 0s 6ms/step - loss: 2.3645 - val_loss: 2.5886\n",
      "Epoch 90/1000\n",
      "10/10 [==============================] - 0s 6ms/step - loss: 2.7749 - val_loss: 2.5228\n",
      "Epoch 91/1000\n",
      "10/10 [==============================] - 0s 7ms/step - loss: 2.7560 - val_loss: 2.5105\n",
      "Epoch 92/1000\n",
      "10/10 [==============================] - 0s 7ms/step - loss: 3.7418 - val_loss: 3.0319\n",
      "Epoch 93/1000\n",
      "10/10 [==============================] - 0s 6ms/step - loss: 3.2314 - val_loss: 4.9495\n",
      "Epoch 94/1000\n",
      "10/10 [==============================] - 0s 7ms/step - loss: 3.6095 - val_loss: 2.9954\n",
      "Epoch 95/1000\n",
      "10/10 [==============================] - 0s 6ms/step - loss: 2.4403 - val_loss: 2.5603\n",
      "Epoch 96/1000\n",
      "10/10 [==============================] - 0s 6ms/step - loss: 3.0005 - val_loss: 2.5525\n",
      "Epoch 97/1000\n",
      "10/10 [==============================] - 0s 6ms/step - loss: 2.4154 - val_loss: 3.4657\n",
      "Epoch 98/1000\n",
      "10/10 [==============================] - 0s 6ms/step - loss: 3.2466 - val_loss: 2.5721\n",
      "Epoch 99/1000\n",
      "10/10 [==============================] - 0s 7ms/step - loss: 2.5389 - val_loss: 2.5913\n",
      "Epoch 100/1000\n",
      "10/10 [==============================] - 0s 7ms/step - loss: 2.6046 - val_loss: 3.9457\n",
      "Epoch 101/1000\n",
      "10/10 [==============================] - 0s 7ms/step - loss: 2.9211 - val_loss: 2.8267\n"
     ]
    }
   ],
   "source": [
    "callback = tf.keras.callbacks.EarlyStopping(\n",
    "                                             monitor='loss',  \n",
    "                                             patience=20,\n",
    "                                             min_delta=0.01 \n",
    "                                           )\n",
    "m,n = X.shape \n",
    "\n",
    "NNModel = tf.keras.Sequential([\n",
    "                                  tf.keras.layers.InputLayer(input_shape=(n,)),\n",
    "                                  tf.keras.layers.Dense(64 , activation = \"relu\" \n",
    "            #                                              ,kernel_regularizer='l2'\n",
    "                                                        ),\n",
    "                                  tf.keras.layers.Dense(64 ,activation = \"relu\"    \n",
    "            #                                           ,kernel_regularizer='l2'\n",
    "                                                       ),\n",
    "                                  tf.keras.layers.Dense(1\n",
    "            #                                           ,activation = \"linear\"  \n",
    "                                                       ) \n",
    "                              ])\n",
    "    \n",
    "\n",
    "NNModel.compile(\n",
    "                 optimizer=keras.optimizers.Adam(learning_rate=0.01),\n",
    "                 loss='mae'\n",
    "#                metrics=['accuracy']\n",
    "               )\n",
    "\n",
    "\n",
    "history = NNModel.fit(\n",
    "                       X_train, \n",
    "                       y_train, \n",
    "                       epochs=1000,\n",
    "                       verbose  = 1,\n",
    "                       callbacks=[callback],\n",
    "                       validation_data=(X_test, y_test)\n",
    "                     )\n"
   ]
  },
  {
   "cell_type": "code",
   "execution_count": null,
   "id": "7f4db2e8",
   "metadata": {},
   "outputs": [],
   "source": [
    "test_loss = NNModel.evaluate(X_test, y_test)"
   ]
  },
  {
   "cell_type": "code",
   "execution_count": 11,
   "id": "e21c77b2",
   "metadata": {},
   "outputs": [
    {
     "data": {
      "text/plain": [
       "<AxesSubplot: >"
      ]
     },
     "execution_count": 11,
     "metadata": {},
     "output_type": "execute_result"
    },
    {
     "data": {
      "image/png": "[encoded data removed]",
      "text/plain": [
       "<Figure size 640x480 with 1 Axes>"
      ]
     },
     "metadata": {},
     "output_type": "display_data"
    }
   ],
   "source": [
    "pd.DataFrame(history.history).plot()"
   ]
  },
  {
   "cell_type": "code",
   "execution_count": 12,
   "id": "126d7088",
   "metadata": {},
   "outputs": [
    {
     "data": {
      "text/plain": [
       "array([-0.47714585, -0.04827227, -0.26629904, -0.39878523, -0.00519939,\n",
       "       -0.30789453, -0.02354902, -0.46538034,  0.05811539, -0.33031827,\n",
       "        0.00941259, -0.2051172 ,  0.21675071, -0.04426713, -0.06754571,\n",
       "       -0.02431369,  0.1486257 ,  0.46223447,  0.04081121, -0.3499777 ,\n",
       "       -0.06057453, -0.2410346 , -0.14492214, -0.28740054, -0.39387769,\n",
       "       -0.02362525, -0.24248564,  0.09335738,  0.10221682, -0.10395848,\n",
       "       -0.03382136, -0.43367305, -0.11205716, -0.17331693, -0.23751734,\n",
       "       -0.22441463, -0.02038869, -0.17374445,  0.22497566, -0.4088039 ,\n",
       "        0.26788476,  0.17989776, -0.23076135,  0.1749247 ,  0.16345431,\n",
       "       -0.30439797,  0.09434032, -0.11671901, -0.08876215,  0.24783102,\n",
       "       -0.15204747, -0.17087367,  0.04724773,  0.01701549,  0.17447758,\n",
       "       -0.0653419 , -0.18921486,  0.22477433, -0.2929653 , -0.08874393,\n",
       "        0.07590044,  0.15594074,  0.22562471, -0.14857449], dtype=float32)"
      ]
     },
     "execution_count": 12,
     "metadata": {},
     "output_type": "execute_result"
    }
   ],
   "source": [
    "NNModel.layers[0].get_weights()[0][0]"
   ]
  },
  {
   "cell_type": "code",
   "execution_count": 17,
   "id": "04a8898b",
   "metadata": {},
   "outputs": [
    {
     "name": "stdout",
     "output_type": "stream",
     "text": [
      "3/3 [==============================] - 0s 3ms/step\n"
     ]
    }
   ],
   "source": [
    "# Test New Data and Predict\n",
    "# test_features = np.array([[4, 97,88, 2130, 14.5, 71, 1]])  \n",
    "test_predictions = NNModel.predict(X_test)\n",
    "\n"
   ]
  },
  {
   "cell_type": "code",
   "execution_count": null,
   "id": "5f23decf",
   "metadata": {},
   "outputs": [],
   "source": []
  },
  {
   "cell_type": "code",
   "execution_count": null,
   "id": "59bfda70",
   "metadata": {},
   "outputs": [],
   "source": []
  },
  {
   "cell_type": "code",
   "execution_count": null,
   "id": "b5f744d6",
   "metadata": {},
   "outputs": [],
   "source": []
  }
 ],
 "metadata": {
  "kernelspec": {
   "display_name": "Python 3 (ipykernel)",
   "language": "python",
   "name": "python3"
  },
  "language_info": {
   "codemirror_mode": {
    "name": "ipython",
    "version": 3
   },
   "file_extension": ".py",
   "mimetype": "text/x-python",
   "name": "python",
   "nbconvert_exporter": "python",
   "pygments_lexer": "ipython3",
   "version": "3.10.8"
  }
 },
 "nbformat": 4,
 "nbformat_minor": 5
}
